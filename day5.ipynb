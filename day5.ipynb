{
 "cells": [
  {
   "cell_type": "markdown",
   "metadata": {},
   "source": [
    "### Write a Python program to sort a list of elements using the bubble sort "
   ]
  },
  {
   "cell_type": "code",
   "execution_count": 29,
   "metadata": {},
   "outputs": [
    {
     "name": "stdout",
     "output_type": "stream",
     "text": [
      "827 3 2 4 5\n",
      "[2, 3, 4, 5, 827]\n"
     ]
    }
   ],
   "source": [
    "def bubble_sort(s):\n",
    "    for i in range(len(s)-1):\n",
    "        for i in range(len(s)-1):\n",
    "            if s[i]>s[i+1]:\n",
    "                s[i],s[i+1]=s[i+1],s[i]\n",
    "\n",
    "    return s\n",
    "\n",
    "\n",
    "s=list(map(int,(input().split())))\n",
    "print(bubble_sort(s))"
   ]
  },
  {
   "cell_type": "markdown",
   "metadata": {},
   "source": [
    "### Write a Python program for Binary search.\n"
   ]
  },
  {
   "cell_type": "code",
   "execution_count": 2,
   "metadata": {},
   "outputs": [
    {
     "name": "stdout",
     "output_type": "stream",
     "text": [
      "found 2\n"
     ]
    }
   ],
   "source": [
    "def binary_search(s,q):\n",
    "    f,l,m=0,len(s),len(s)//2\n",
    "    s.sort()\n",
    "    while True:\n",
    "        if q==s[m]:\n",
    "            print(\"found\",m)\n",
    "            break\n",
    "        elif q>s[m]:\n",
    "            f=m\n",
    "            m=(m+l)//2\n",
    "        elif q<s[m]:\n",
    "            l=m\n",
    "            m=(m+f)//2\n",
    "\n",
    "s=[1,2,3,4,5,6,7,8]\n",
    "binary_search(s,3)\n",
    "    "
   ]
  },
  {
   "cell_type": "markdown",
   "metadata": {},
   "source": [
    "### Write a Python program for sequential search (Linear search).\n"
   ]
  },
  {
   "cell_type": "code",
   "execution_count": 26,
   "metadata": {},
   "outputs": [
    {
     "name": "stdout",
     "output_type": "stream",
     "text": [
      "index position is [5, 8]\n"
     ]
    }
   ],
   "source": [
    "def linear_search(s,x):\n",
    "    j=[]\n",
    "    for i in range(len(s)):\n",
    "        if s[i]==x:\n",
    "            j.append(i)\n",
    "    print(\"index position is\",j)\n",
    "    \n",
    "list1=[1,3,4,2,6,\"shu\",2,3,\"shu\"]\n",
    "linear_search(list1,\"shu\")\n",
    "        "
   ]
  },
  {
   "cell_type": "markdown",
   "metadata": {},
   "source": [
    "###  Write a python program to concatenate two lists index-wise. \n",
    "#### List1 = [“M”,”na”,”i”,”lak”]\n",
    "#### List2 = [“y”,”me”,”s”,”han”]\n",
    "#### Expected output:\n",
    "#### [“My”,”name”,”is”,”lakhan”]\n"
   ]
  },
  {
   "cell_type": "code",
   "execution_count": 35,
   "metadata": {},
   "outputs": [
    {
     "name": "stdout",
     "output_type": "stream",
     "text": [
      "['My', 'name', 'is', 'lakhan']\n"
     ]
    }
   ],
   "source": [
    "def concate(b,a):\n",
    "   \n",
    "    for i in range(len(b)):\n",
    "        a[i]=b[i]+a[i]\n",
    "    return a\n",
    "        \n",
    "list1=['M','na','i','lak']\n",
    "list2 = ['y','me','s','han']\n",
    "print(concate(list1,list2))\n",
    "   "
   ]
  },
  {
   "cell_type": "markdown",
   "metadata": {},
   "source": [
    "### Iterate a given list and check if a given element already exists in a dictionary as a key’s value if not delete it from the list.\n",
    "roll_number = [47, 64, 69, 37, 76, 83, 95, 97]\n",
    "sampledict = {“John”:47,”Peter”:64,”Mahi”:37,”Maria”:76}\n"
   ]
  },
  {
   "cell_type": "code",
   "execution_count": 75,
   "metadata": {},
   "outputs": [
    {
     "name": "stdout",
     "output_type": "stream",
     "text": [
      "[47, 64, 37, 76]\n"
     ]
    }
   ],
   "source": [
    "roll_number = [47, 64, 69, 37, 76, 83, 95, 97]\n",
    "sampledict = {\"john\":47,'peter':64,'Mahi':37,'maria':76}\n",
    "s=list(sampledict.values())\n",
    "def arr():\n",
    "    for i in range(len(roll_number)):\n",
    "        try:            \n",
    "            if s.index(roll_number[i])==-1:\n",
    "                pass\n",
    "        except:\n",
    "            roll_number.remove(roll_number[i])\n",
    "            arr()\n",
    "            return (roll_number)\n",
    "\n",
    "arr()\n",
    "print(roll_number)"
   ]
  },
  {
   "cell_type": "code",
   "execution_count": null,
   "metadata": {},
   "outputs": [],
   "source": []
  }
 ],
 "metadata": {
  "kernelspec": {
   "display_name": "Python 3",
   "language": "python",
   "name": "python3"
  },
  "language_info": {
   "codemirror_mode": {
    "name": "ipython",
    "version": 3
   },
   "file_extension": ".py",
   "mimetype": "text/x-python",
   "name": "python",
   "nbconvert_exporter": "python",
   "pygments_lexer": "ipython3",
   "version": "3.7.6"
  }
 },
 "nbformat": 4,
 "nbformat_minor": 4
}
