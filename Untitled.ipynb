{
 "cells": [
  {
   "cell_type": "code",
   "execution_count": 103,
   "metadata": {},
   "outputs": [
    {
     "name": "stdout",
     "output_type": "stream",
     "text": [
      "5\n",
      "1+2+3+4+5=15\n"
     ]
    }
   ],
   "source": [
    "#Python Program to Read a Number n And Print the Series “1+2+…..+n= “\n",
    "n=int(input())\n",
    "n=list((i) for i in range(1,n+1))\n",
    "s=list(map(str,n))\n",
    "s=\"+\".join(s)\n",
    "print(s,\"=\",sum(n),sep=\"\")"
   ]
  },
  {
   "cell_type": "code",
   "execution_count": 15,
   "metadata": {},
   "outputs": [
    {
     "name": "stdout",
     "output_type": "stream",
     "text": [
      "odd= 5 even= 4\n"
     ]
    }
   ],
   "source": [
    "#Write a Python program to count the number of even and odd numbers from a series of numbers.\n",
    "#Sample numbers :\n",
    "#numbers = [1, 2, 3, 4, 5, 6, 7, 8, 9]\n",
    "even=0\n",
    "odd=0\n",
    "numbers=list(i for i in range(1,10))\n",
    "for i in numbers:\n",
    "    if i%2==0:\n",
    "        even+=1\n",
    "    else:\n",
    "        odd+=1\n",
    "print(\"odd=\",odd,\"even=\",even )\n",
    "    \n",
    "\n"
   ]
  },
  {
   "cell_type": "code",
   "execution_count": 23,
   "metadata": {},
   "outputs": [
    {
     "name": "stdout",
     "output_type": "stream",
     "text": [
      "\t1*1=1\t2*1=2\t3*1=3\t4*1=4\t5*1=5\t6*1=6\t7*1=7\t8*1=8\t9*1=9\t10*1=10\n",
      "\t1*2=2\t2*2=4\t3*2=6\t4*2=8\t5*2=10\t6*2=12\t7*2=14\t8*2=16\t9*2=18\t10*2=20\n",
      "\t1*3=3\t2*3=6\t3*3=9\t4*3=12\t5*3=15\t6*3=18\t7*3=21\t8*3=24\t9*3=27\t10*3=30\n",
      "\t1*4=4\t2*4=8\t3*4=12\t4*4=16\t5*4=20\t6*4=24\t7*4=28\t8*4=32\t9*4=36\t10*4=40\n",
      "\t1*5=5\t2*5=10\t3*5=15\t4*5=20\t5*5=25\t6*5=30\t7*5=35\t8*5=40\t9*5=45\t10*5=50\n",
      "\t1*6=6\t2*6=12\t3*6=18\t4*6=24\t5*6=30\t6*6=36\t7*6=42\t8*6=48\t9*6=54\t10*6=60\n",
      "\t1*7=7\t2*7=14\t3*7=21\t4*7=28\t5*7=35\t6*7=42\t7*7=49\t8*7=56\t9*7=63\t10*7=70\n",
      "\t1*8=8\t2*8=16\t3*8=24\t4*8=32\t5*8=40\t6*8=48\t7*8=56\t8*8=64\t9*8=72\t10*8=80\n",
      "\t1*9=9\t2*9=18\t3*9=27\t4*9=36\t5*9=45\t6*9=54\t7*9=63\t8*9=72\t9*9=81\t10*9=90\n",
      "\t1*10=10\t2*10=20\t3*10=30\t4*10=40\t5*10=50\t6*10=60\t7*10=70\t8*10=80\t9*10=90\t10*10=100\n"
     ]
    }
   ],
   "source": [
    "#Write a Python program to create the multiplication table (from 1 to 10) of a number.\n",
    "for i in range(1,11):\n",
    "    for j in range(1,11):\n",
    "        print(\"\\t\",j,'*',i,'=',i*j,sep='',end='')\n",
    "        \n",
    "    print()\n"
   ]
  },
  {
   "cell_type": "code",
   "execution_count": 17,
   "metadata": {},
   "outputs": [
    {
     "name": "stdout",
     "output_type": "stream",
     "text": [
      "      1       \n",
      "     3 5      \n",
      "    7 9 11    \n",
      " 13 15 17 19  \n",
      "21 23 25 27 29\n",
      "3\n",
      "sum of the 3 row is = 27\n"
     ]
    }
   ],
   "source": [
    "#Given the triangle of consecutive odd  numbers\n",
    "s=[]\n",
    "j=1\n",
    "for k in range(1,6):\n",
    "    c=[]\n",
    "    for i in range(k):\n",
    "        c.append(j)\n",
    "        j+=2\n",
    "    s.append(c)\n",
    "\n",
    "for n in s:\n",
    "   \n",
    "    y=list(map(str,n))\n",
    "   \n",
    "    y=' '.join(y)\n",
    "    y=y.center(14,\" \")\n",
    "    print(y)\n",
    "i=int(input())    \n",
    "print(\"sum of the\",i,\"row is =\",sum(s[i-1]))    \n"
   ]
  },
  {
   "cell_type": "code",
   "execution_count": 4,
   "metadata": {},
   "outputs": [
    {
     "name": "stdout",
     "output_type": "stream",
     "text": [
      "5\n",
      "1\n",
      "22\n",
      "333\n",
      "4444\n",
      "55555\n"
     ]
    }
   ],
   "source": [
    "#Write python program to print the pattern given below Note: Take input from user\n",
    "n= int(input())\n",
    "for i in range(1,n+1):\n",
    "    print(str(i)*i)\n",
    "    \n"
   ]
  },
  {
   "cell_type": "code",
   "execution_count": 15,
   "metadata": {},
   "outputs": [
    {
     "name": "stdout",
     "output_type": "stream",
     "text": [
      "[[1], [3, 5], [7, 9, 11], [13, 15, 17, 19], [21, 23, 25, 27, 29]]\n"
     ]
    }
   ],
   "source": [
    "s=[]\n",
    "\n",
    "j=1\n",
    "for k in range(1,6):\n",
    "    c=[]\n",
    "    for i in range(k):\n",
    "        c.append(j)\n",
    "        j+=2\n",
    "    s.append(c)\n",
    "print(s)"
   ]
  },
  {
   "cell_type": "code",
   "execution_count": null,
   "metadata": {},
   "outputs": [],
   "source": []
  }
 ],
 "metadata": {
  "kernelspec": {
   "display_name": "Python 3",
   "language": "python",
   "name": "python3"
  },
  "language_info": {
   "codemirror_mode": {
    "name": "ipython",
    "version": 3
   },
   "file_extension": ".py",
   "mimetype": "text/x-python",
   "name": "python",
   "nbconvert_exporter": "python",
   "pygments_lexer": "ipython3",
   "version": "3.7.6"
  }
 },
 "nbformat": 4,
 "nbformat_minor": 4
}
