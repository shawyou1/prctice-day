{
 "cells": [
  {
   "cell_type": "markdown",
   "metadata": {},
   "source": [
    "### 1. From a list containing ints, strings and floats, make three lists to store them separately. \n"
   ]
  },
  {
   "cell_type": "code",
   "execution_count": null,
   "metadata": {},
   "outputs": [],
   "source": [
    "test=[1,2,3,4,'string','hello','bye',12.23,34.23,33.97]\n",
    "string=[]\n",
    "ints=[]\n",
    "floats=[]\n",
    "for i in test:\n",
    "    \n",
    "    if type(i)==int:\n",
    "        ints.append(i)\n",
    "    elif type(i)==str:\n",
    "        string.append(i)\n",
    "    elif type(i)==float:\n",
    "        \n",
    "        floats.append(i)\n",
    "     \n",
    "print(\"string=\",string,\"\\nfloat=\",floats,\"\\nints=\",ints)\n",
    "        "
   ]
  },
  {
   "cell_type": "markdown",
   "metadata": {},
   "source": [
    "### 2. You are given with a list of integer elements. Make a new list which will store square of elements of previous list.\n"
   ]
  },
  {
   "cell_type": "code",
   "execution_count": 3,
   "metadata": {},
   "outputs": [
    {
     "name": "stdout",
     "output_type": "stream",
     "text": [
      "[1, 9, 1849, 4, 1936, 4, 49, 64, 81, 484]\n"
     ]
    }
   ],
   "source": [
    "test_list=[1,3,43,2,44,2,7,8,9,22]\n",
    "sq_list=[]\n",
    "for i in test_list:\n",
    "    sq_list.append(i*i)\n",
    "print(sq_list)\n",
    "    "
   ]
  },
  {
   "cell_type": "markdown",
   "metadata": {},
   "source": [
    "### Print the pattern\n",
    "    1\n",
    "    1 2 \n",
    "    1 2 3\n",
    "    1 2 3 4\n",
    "    1 2 3 4 5\n"
   ]
  },
  {
   "cell_type": "code",
   "execution_count": 12,
   "metadata": {},
   "outputs": [
    {
     "name": "stdout",
     "output_type": "stream",
     "text": [
      "\n",
      "1 \n",
      "1 2 \n",
      "1 2 3 \n",
      "1 2 3 4 \n",
      "1 2 3 4 5 \n"
     ]
    }
   ],
   "source": [
    "for i in range(6):\n",
    "    for j in range(i):\n",
    "            print(j+1,\"\",end=\"\")\n",
    "    print()"
   ]
  },
  {
   "cell_type": "markdown",
   "metadata": {},
   "source": [
    "Write a Python program to check whether a given number is a narcissistic number or not\n",
    "For example, 371 is a narcissistic number; it has three digits, and if we cube each digits  33 + 73 + 13 the sum is 371. Other 3-digit narcissistic numbers are\n",
    "153 = 13 + 53 + 33\n",
    "370 = 33 + 73 + 03\n",
    "407 = 43 + 03 + 73.\n",
    "There are also 4-digit narcissistic numbers, some of which are 1634, 8208, 9474 since\n",
    "1634 = 14+64+34+44\n",
    "8208 = 84+24+04+84\n",
    "9474 = 94+44+74+44"
   ]
  },
  {
   "cell_type": "code",
   "execution_count": 38,
   "metadata": {},
   "outputs": [
    {
     "name": "stdout",
     "output_type": "stream",
     "text": [
      "371\n",
      "371\n",
      "narcissictic\n"
     ]
    }
   ],
   "source": [
    "i=input()\n",
    "no=int(i)\n",
    "numb=list(map(int,str(i)))\n",
    "count=len(numb)\n",
    "d=0\n",
    "for i in numb:\n",
    "    j=1\n",
    "    for k in range(count):\n",
    "        j=j*i\n",
    "    d+=j\n",
    "print(d)\n",
    "if no==d:\n",
    "    print(\"narcissictic\")\n",
    "else:\n",
    "    print(\"not narcissictic\")\n",
    "        "
   ]
  },
  {
   "cell_type": "markdown",
   "metadata": {},
   "source": [
    "### Accept data in two 3*3  matrix and calculate the sum of the matrices.\n"
   ]
  },
  {
   "cell_type": "code",
   "execution_count": 40,
   "metadata": {},
   "outputs": [
    {
     "name": "stdout",
     "output_type": "stream",
     "text": [
      "1st matrix\n",
      "1 2 3\n",
      "1 2 3\n",
      "1 2 3\n",
      "2st matrix\n",
      "1 2 3\n",
      "1 2 3\n",
      "1 2 3\n",
      "[[2, 4, 6], [2, 4, 6], [2, 4, 6]]\n"
     ]
    }
   ],
   "source": [
    "c=[]\n",
    "g=[]\n",
    "print(\"1st matrix\")\n",
    "for i in range(3):\n",
    "    x=list(map(int,input().split()))\n",
    "    c.append(x)\n",
    "\n",
    "print(\"2st matrix\")\n",
    "for i in range(3):\n",
    "    x=list(map(int,input().split()))\n",
    "    g.append(x)\n",
    "\n",
    "for i in range(3):\n",
    "    for j in range(3):\n",
    "        c[i][j]+=g[i][j]\n",
    "print(c)\n",
    "    "
   ]
  },
  {
   "cell_type": "code",
   "execution_count": null,
   "metadata": {},
   "outputs": [],
   "source": []
  }
 ],
 "metadata": {
  "kernelspec": {
   "display_name": "Python 3",
   "language": "python",
   "name": "python3"
  },
  "language_info": {
   "codemirror_mode": {
    "name": "ipython",
    "version": 3
   },
   "file_extension": ".py",
   "mimetype": "text/x-python",
   "name": "python",
   "nbconvert_exporter": "python",
   "pygments_lexer": "ipython3",
   "version": "3.7.6"
  }
 },
 "nbformat": 4,
 "nbformat_minor": 4
}
