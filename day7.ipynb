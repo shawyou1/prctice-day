{
 "cells": [
  {
   "cell_type": "code",
   "execution_count": 20,
   "metadata": {},
   "outputs": [
    {
     "name": "stdout",
     "output_type": "stream",
     "text": [
      "INDIAN BANK\n",
      "1 .Deposit \n",
      "2. Withdraw \n",
      "3. Exit \n",
      "1\n",
      "enter amount2\n",
      "updated amount is: 2\n",
      "1 .Deposit \n",
      "2. Withdraw \n",
      "3. Exit \n",
      "3\n",
      "bye\n"
     ]
    }
   ],
   "source": [
    "\"\"\"\n",
    "Write python program to perform bank operations using class and objects.\n",
    "       Conditions:\n",
    "Bank name should be static.\n",
    "Using menu driven program.\n",
    "1 .Deposit\n",
    "2. Withdraw\n",
    "3. Exit\n",
    "\"\"\"\n",
    "\n",
    "class bank:\n",
    "    balance=0\n",
    "    \n",
    "    def __init__(self):\n",
    "        print(\"INDIAN BANK\")\n",
    "    def deposit(self,amt):\n",
    "        self.balance+=amt\n",
    "        print(\"updated amount is:\",self.balance)\n",
    "    def withdraw(self,amt):\n",
    "        self.balance-=amt\n",
    "        print(\"updated amount is:\",self.balance)\n",
    "\n",
    "s=bank()        \n",
    "while True:\n",
    "    print('1 .Deposit \\n2. Withdraw \\n3. Exit ')\n",
    "    \n",
    "    n=int(input())\n",
    "    if n==1:\n",
    "        amt=int(input(\"enter amount\"))\n",
    "        s.deposit(amt)\n",
    "    elif n==2:\n",
    "        amt=int(input(\"enter amount\"))\n",
    "        s.withdraw(amt)\n",
    "    elif n==3:\n",
    "        print(\"bye\")\n",
    "        break\n",
    "        "
   ]
  },
  {
   "cell_type": "code",
   "execution_count": 3,
   "metadata": {},
   "outputs": [
    {
     "name": "stdout",
     "output_type": "stream",
     "text": [
      "circle is created\n",
      "area is : 50.24\n",
      "perimeter is : 25.12\n"
     ]
    }
   ],
   "source": [
    "'''\n",
    "2. Write a Python class named Circle constructed by a radius and \n",
    "two methods which will compute the area and the perimeter of a circle.\n",
    "'''\n",
    "\n",
    "class circle:\n",
    "    radius=0\n",
    "    __area=0\n",
    "    __perimeter=0\n",
    "    def __init__(self,radius):\n",
    "        self.radius=radius\n",
    "        print(\"circle is created\")\n",
    "    def area(self):\n",
    "        area=3.14*self.radius**2\n",
    "        print('area is :',area)\n",
    "    def perimeter(self):\n",
    "        perimeter=2*3.14*self.radius\n",
    "        print('perimeter is :',perimeter)\n",
    "        \n",
    "        \n",
    "circle=circle(4)\n",
    "circle.area()\n",
    "circle.perimeter()"
   ]
  },
  {
   "cell_type": "code",
   "execution_count": 18,
   "metadata": {},
   "outputs": [
    {
     "name": "stdout",
     "output_type": "stream",
     "text": [
      "area= 16\n",
      "2\n"
     ]
    }
   ],
   "source": [
    "'''\n",
    "3. Define a class named Shape and its subclass Square. The Square class has \n",
    "an init function which takes a length as argument. Both classes have a area \n",
    "function which can print the area of the shape where Shape's area is 0 by \n",
    "default.\n",
    "\n",
    "Hints:\n",
    "\n",
    "To override a method in super class, we can define a method with the same \n",
    "name in the super class.\n",
    "'''\n",
    "'''\n",
    "4. Write a program to count how many reference variables in a program. \n",
    "'''\n",
    "import sys\n",
    "\n",
    "class shape:\n",
    "    length=0\n",
    "    area=0\n",
    "\n",
    "    def area(self):\n",
    "        self.area=self.length**2\n",
    "        print(\"area=\",self.area)\n",
    "    \n",
    "    \n",
    "\n",
    "class square(shape):\n",
    "    \n",
    "    def __init__(self,length):\n",
    "        self.length=length\n",
    "    def area(self):\n",
    "        self.area=self.length**2\n",
    "        print(\"area=\",self.area)\n",
    "        \n",
    "        \n",
    "s=square(4)\n",
    "s.area()\n",
    "print(sys.getrefcount(s))        "
   ]
  },
  {
   "cell_type": "code",
   "execution_count": 24,
   "metadata": {},
   "outputs": [
    {
     "name": "stdout",
     "output_type": "stream",
     "text": [
      "shubham 9.57\n"
     ]
    }
   ],
   "source": [
    "# 5. write any program to achieve composition in Python\n",
    "\n",
    "class percentage:\n",
    "    def __init__(self,total):\n",
    "        self.total=total\n",
    "    def percent(self):\n",
    "        return (self.total/100)\n",
    "    \n",
    "class student:\n",
    "    def __init__(self,name,total):\n",
    "        self.name=name\n",
    "        self.total=total\n",
    "    def student(self):\n",
    "        s=percentage(self.total)\n",
    "        print(self.name,s.percent())\n",
    "        \n",
    "s=student(\"shubham\",957)\n",
    "s.student()\n",
    "\n",
    "\n"
   ]
  },
  {
   "cell_type": "code",
   "execution_count": null,
   "metadata": {},
   "outputs": [],
   "source": []
  }
 ],
 "metadata": {
  "kernelspec": {
   "display_name": "Python 3",
   "language": "python",
   "name": "python3"
  },
  "language_info": {
   "codemirror_mode": {
    "name": "ipython",
    "version": 3
   },
   "file_extension": ".py",
   "mimetype": "text/x-python",
   "name": "python",
   "nbconvert_exporter": "python",
   "pygments_lexer": "ipython3",
   "version": "3.7.6"
  }
 },
 "nbformat": 4,
 "nbformat_minor": 4
}
