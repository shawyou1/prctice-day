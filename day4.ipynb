{
 "cells": [
  {
   "cell_type": "markdown",
   "metadata": {},
   "source": [
    "### Write a recursive function to calculate the sum of numbers from 0 to 10\n"
   ]
  },
  {
   "cell_type": "code",
   "execution_count": 4,
   "metadata": {},
   "outputs": [
    {
     "name": "stdout",
     "output_type": "stream",
     "text": [
      "10\n",
      "55\n"
     ]
    }
   ],
   "source": [
    "def sum(a):\n",
    "    s=0\n",
    "    if a>=0:\n",
    "        s=a+sum(a-1)\n",
    "    return s\n",
    "a=int(input())\n",
    "s=sum(a)\n",
    "print(s)"
   ]
  },
  {
   "cell_type": "markdown",
   "metadata": {},
   "source": [
    "### Write a Python function that takes a list and returns a new list with unique elements of the first list.\n"
   ]
  },
  {
   "cell_type": "code",
   "execution_count": 8,
   "metadata": {},
   "outputs": [
    {
     "name": "stdout",
     "output_type": "stream",
     "text": [
      "enter list1 1 1 1 2 2 2 2\n",
      "['2', '1']\n"
     ]
    }
   ],
   "source": [
    "lists=input(\"enter list\").strip().split()\n",
    "unique=list(set(lists))\n",
    "print(unique)"
   ]
  },
  {
   "cell_type": "markdown",
   "metadata": {},
   "source": [
    "### Write a program to obtain the sum of the first and last digit of this number 2 user defined functions\n"
   ]
  },
  {
   "cell_type": "code",
   "execution_count": 13,
   "metadata": {},
   "outputs": [
    {
     "name": "stdout",
     "output_type": "stream",
     "text": [
      "234\n",
      "6\n"
     ]
    }
   ],
   "source": [
    "i=input()\n",
    "s=len(i)\n",
    "last=int(i[s-1])\n",
    "first=int(i[0])\n",
    "print(last+first)"
   ]
  },
  {
   "cell_type": "markdown",
   "metadata": {},
   "source": [
    "### Write a function to find max of three numbers.\n"
   ]
  },
  {
   "cell_type": "code",
   "execution_count": 4,
   "metadata": {},
   "outputs": [
    {
     "name": "stdout",
     "output_type": "stream",
     "text": [
      "enter 3 no  1 2 3\n",
      "3\n"
     ]
    }
   ],
   "source": [
    "a=list(map(int,input(\"enter 3 no  \").strip().split()))\n",
    "print(max(a))"
   ]
  },
  {
   "cell_type": "markdown",
   "metadata": {},
   "source": [
    "### Create a function showStudent() in such a way that it should accept student id, name, and it’s college name  and if the id and college name is missing in function call it should show it as by default id is 1 and college name  is VITA.\n"
   ]
  },
  {
   "cell_type": "code",
   "execution_count": 12,
   "metadata": {},
   "outputs": [
    {
     "name": "stdout",
     "output_type": "stream",
     "text": [
      "shubham\n",
      "1\n",
      "vita\n"
     ]
    }
   ],
   "source": [
    "\n",
    "def showstudent(student_name,student_id=1,college_name=\"vita\"):\n",
    "    a=student_name\n",
    "    b=student_id\n",
    "    c=college_name\n",
    "    print(a,b,c,sep=\"\\n\")\n",
    "\n",
    "showstudent(\"shubham\")"
   ]
  },
  {
   "cell_type": "markdown",
   "metadata": {},
   "source": [
    "### Write a Python program to detect the number of local variables declared in a function.\n"
   ]
  },
  {
   "cell_type": "code",
   "execution_count": 19,
   "metadata": {},
   "outputs": [
    {
     "name": "stdout",
     "output_type": "stream",
     "text": [
      "3\n"
     ]
    }
   ],
   "source": [
    "def local():\n",
    "    a=23\n",
    "    b=\"shu\"\n",
    "    c=12.9\n",
    "    \n",
    "\n",
    "print(local.__code__.co_nlocals)"
   ]
  },
  {
   "cell_type": "code",
   "execution_count": null,
   "metadata": {},
   "outputs": [],
   "source": []
  }
 ],
 "metadata": {
  "kernelspec": {
   "display_name": "Python 3",
   "language": "python",
   "name": "python3"
  },
  "language_info": {
   "codemirror_mode": {
    "name": "ipython",
    "version": 3
   },
   "file_extension": ".py",
   "mimetype": "text/x-python",
   "name": "python",
   "nbconvert_exporter": "python",
   "pygments_lexer": "ipython3",
   "version": "3.7.6"
  }
 },
 "nbformat": 4,
 "nbformat_minor": 4
}
